{
 "cells": [
  {
   "cell_type": "code",
   "execution_count": 1,
   "id": "c1ec1e6d",
   "metadata": {},
   "outputs": [],
   "source": [
    "from sklearn.datasets import load_iris\n",
    "from sklearn.metrics import confusion_matrix\n",
    "import numpy as np\n",
    "import matplotlib.pyplot as plt\n",
    "from sklearn import metrics\n",
    "from numpy import random\n",
    "\n",
    "class naivebayes():\n",
    "    \n",
    "    def fit(self, X, y):\n",
    "        self.n_samples, self.n_features = X.shape\n",
    "        self.n_classes = len (np.unique (y))\n",
    "        self.mean = np.zeros ((self.n_classes, self.n_features))\n",
    "        self.variance = np.zeros ((self.n_classes, self.n_features))\n",
    "        self.prior = np.zeros (self.n_classes)\n",
    "        \n",
    "        for c in range (self.n_classes):\n",
    "            X_c = X[y == c]\n",
    "            self.mean [c, :] = np.mean(X_c, axis =0)\n",
    "            self.variance [c, :] = np. var(X_c, axis =0)\n",
    "            self.prior[c] = X_c.shape[0] / self.n_samples\n",
    "            \n",
    "    def predict (self, X):\n",
    "        y_hat = [self.get_class_probability(x) for x in X]\n",
    "        return np.array(y_hat)\n",
    "        \n",
    "    \n",
    "    def  get_class_probability (self, x):\n",
    "        posteriors = list()\n",
    "        \n",
    "        for c in range (self.n_classes):\n",
    "            mean = self. mean [c]\n",
    "            variance = self.variance [c]\n",
    "            prior = np.log(self.prior [c])\n",
    "            \n",
    "            posterior = np.sum(np.log(self.gaussian_density(x, mean, variance)))\n",
    "            \n",
    "            posterior = prior + posterior\n",
    "            \n",
    "            posteriors.append(posterior)\n",
    "\n",
    "        return np.argmax (posteriors)\n",
    "            \n",
    "    \n",
    "    def gaussian_density (self, x, mean, variance):\n",
    "        constant = 1/np.sqrt(2* np.pi * variance)\n",
    "        probability = constant * np. exp(-0.5 * ((x - mean ) ** 2)/ variance)\n",
    "        return probability\n",
    "    "
   ]
  },
  {
   "cell_type": "code",
   "execution_count": 2,
   "id": "2732dcb0",
   "metadata": {},
   "outputs": [],
   "source": [
    "iris = load_iris()\n",
    "random.seed(42)"
   ]
  },
  {
   "cell_type": "markdown",
   "id": "7e32aba5",
   "metadata": {},
   "source": [
    "### 1\n",
    "## 'setosa', 'versicolor'"
   ]
  },
  {
   "cell_type": "code",
   "execution_count": 3,
   "id": "07e88307",
   "metadata": {},
   "outputs": [
    {
     "name": "stdout",
     "output_type": "stream",
     "text": [
      "accuracy of fold 0 is 1.0\n",
      "y_test [1 1 0 0 0 0 1 0 0 0 0 1 0 1 0 1 1 0 0]\n",
      "prediction [1 1 0 0 0 0 1 0 0 0 0 1 0 1 0 1 1 0 0]\n",
      "fpr [0. 0. 1.] \n",
      "tpr [0. 1. 1.]\n",
      "cm [[12  0]\n",
      " [ 0  7]]\n",
      "accuracy of fold 1 is 1.0\n",
      "y_test [1 0 0 1 0 0 1 0 1 0 0 1 0 1 0 1 1 0 0]\n",
      "prediction [1 0 0 1 0 0 1 0 1 0 0 1 0 1 0 1 1 0 0]\n",
      "fpr [0. 0. 1.] \n",
      "tpr [0. 1. 1.]\n",
      "cm [[11  0]\n",
      " [ 0  8]]\n",
      "accuracy of fold 2 is 1.0\n",
      "y_test [0 0 1 0 0 1 0 1 0 0 0 0 0 0 1 0 1 0 1]\n",
      "prediction [0 0 1 0 0 1 0 1 0 0 0 0 0 0 1 0 1 0 1]\n",
      "fpr [0. 0. 1.] \n",
      "tpr [0. 1. 1.]\n",
      "cm [[13  0]\n",
      " [ 0  6]]\n",
      "accuracy of fold 3 is 1.0\n",
      "y_test [1 1 0 1 1 0 1 1 1 1 0 1 0 1 1 1 0 1 1]\n",
      "prediction [1 1 0 1 1 0 1 1 1 1 0 1 0 1 1 1 0 1 1]\n",
      "fpr [0. 0. 1.] \n",
      "tpr [0. 1. 1.]\n",
      "cm [[ 5  0]\n",
      " [ 0 14]]\n",
      "accuracy of fold 4 is 1.0\n",
      "y_test [1 0 0 0 1 0 0 0 1 1 1 1 1 0 1 1 0 1 1]\n",
      "prediction [1 0 0 0 1 0 0 0 1 1 1 1 1 0 1 1 0 1 1]\n",
      "fpr [0. 0. 1.] \n",
      "tpr [0. 1. 1.]\n",
      "cm [[ 8  0]\n",
      " [ 0 11]]\n"
     ]
    }
   ],
   "source": [
    "X, y = iris.data, iris.target\n",
    "X,y = X[y != 2] , y[y!=2]\n",
    "\n",
    "indices= np.arange(X.shape[0])\n",
    "np.random.shuffle(indices)\n",
    "\n",
    "X = X[indices]\n",
    "y = y[indices]\n",
    "# print(indices)\n",
    "k = 5\n",
    "nb = naivebayes()\n",
    "p = len (X)// k\n",
    "accuracies = np.zeros(k)\n",
    "\n",
    "slice(0,len(X),p)\n",
    "\n",
    "mean_fpr = []\n",
    "mean_tpr = []\n",
    "\n",
    "for m in range (k):\n",
    "    start_index = m*p+1\n",
    "    end_index = m*p + p\n",
    "    \n",
    "    X_test = np.concatenate ([X[start_index:end_index]])\n",
    "    y_test = np.concatenate ([y[start_index:end_index]])\n",
    "    X_train = np.concatenate([X[:start_index],X[end_index:]])\n",
    "    y_train = np.concatenate([y[:start_index],y[end_index:]])\n",
    "    \n",
    "    \n",
    "    \n",
    "    nb = naivebayes()\n",
    "    nb.fit(X_train, y_train)\n",
    "    prediction = nb.predict(X_test)\n",
    "    \n",
    "    \n",
    "    \n",
    "    accuracy = (y_test == prediction).mean()\n",
    "    accuracies[m] = accuracy\n",
    "    print(f\"accuracy of fold {m} is {accuracy}\") \n",
    "    print(\"y_test\",y_test )\n",
    "    print(\"prediction\", prediction)\n",
    "    \n",
    "    fpr, tpr, thresholds = metrics.roc_curve(y_test, prediction)\n",
    "    roc_auc = metrics.auc(fpr, tpr)\n",
    "    print(\"fpr\",fpr, \"\\ntpr\", tpr)\n",
    "    cm = confusion_matrix(y_test,prediction)\n",
    "    print(\"cm\", cm)\n",
    "    mean_fpr.append(fpr)\n",
    "    mean_tpr.append(tpr)\n",
    "    \n",
    "#     display = metrics.RocCurveDisplay(fpr=fpr, tpr=tpr, roc_auc=roc_auc)\n",
    "#     display.plot()\n",
    "#     plt.plot ([0,1], [0,1], linestyle ='dashed')\n",
    "#     plt.show()"
   ]
  },
  {
   "cell_type": "code",
   "execution_count": 4,
   "id": "a6dbb4b3",
   "metadata": {},
   "outputs": [
    {
     "name": "stdout",
     "output_type": "stream",
     "text": [
      "fpr [0. 0. 0. 0. 0. 0. 0. 0. 0. 0. 1. 1. 1. 1. 1.] \n",
      "tpr [0. 0. 0. 0. 0. 1. 1. 1. 1. 1. 1. 1. 1. 1. 1.]\n"
     ]
    }
   ],
   "source": [
    "mean2_fpr = np.sort(np.concatenate(mean_fpr))\n",
    "mean2_tpr= np.sort(np.concatenate(mean_tpr))\n",
    "print(\"fpr\",mean2_fpr, \"\\ntpr\", mean2_tpr)"
   ]
  },
  {
   "cell_type": "code",
   "execution_count": 5,
   "id": "d911e451",
   "metadata": {},
   "outputs": [
    {
     "data": {
      "image/png": "[encoded data removed]",
      "text/plain": [
       "<Figure size 640x480 with 1 Axes>"
      ]
     },
     "metadata": {},
     "output_type": "display_data"
    }
   ],
   "source": [
    "new_roc_auc = metrics.auc(mean2_fpr, mean2_tpr)\n",
    "display = metrics.RocCurveDisplay(fpr=mean2_fpr, tpr=mean2_tpr, roc_auc=new_roc_auc)\n",
    "display.plot()\n",
    "plt.plot ([0,1], [0,1], linestyle ='dashed')\n",
    "plt.show()"
   ]
  },
  {
   "cell_type": "markdown",
   "id": "af33e758",
   "metadata": {},
   "source": [
    "### 2\n",
    "\n",
    "## 'versicolor' 'Virginica'"
   ]
  },
  {
   "cell_type": "code",
   "execution_count": 6,
   "id": "4570858e",
   "metadata": {},
   "outputs": [],
   "source": [
    "X, y = iris.data, iris.target"
   ]
  },
  {
   "cell_type": "code",
   "execution_count": 7,
   "id": "00ebacd6",
   "metadata": {},
   "outputs": [
    {
     "data": {
      "text/plain": [
       "(150, 4)"
      ]
     },
     "execution_count": 7,
     "metadata": {},
     "output_type": "execute_result"
    }
   ],
   "source": [
    "X.shape"
   ]
  },
  {
   "cell_type": "code",
   "execution_count": 8,
   "id": "ee66b5ba",
   "metadata": {},
   "outputs": [
    {
     "name": "stdout",
     "output_type": "stream",
     "text": [
      "y_test\t\t\t [0 1 1 0 0 1 0 1 0 1 1 1 1 1 1 0 0 0 0]\n",
      "prediction\t\t [0 1 1 0 1 1 0 0 0 1 1 1 1 1 1 0 0 0 0]\n",
      "cm \t\t\t [[8 1]\n",
      " [1 9]]\n",
      "y_test\t\t\t [1 1 0 1 0 0 1 1 1 1 1 0 1 1 1 1 1 1 0]\n",
      "prediction\t\t [1 0 0 1 0 0 1 1 1 1 1 0 1 1 1 1 1 1 0]\n",
      "cm \t\t\t [[ 5  0]\n",
      " [ 1 13]]\n",
      "y_test\t\t\t [0 0 0 0 1 1 1 0 1 1 0 1 0 1 1 0 0 0 0]\n",
      "prediction\t\t [0 0 0 0 1 1 1 0 1 0 0 1 0 1 1 0 0 0 0]\n",
      "cm \t\t\t [[11  0]\n",
      " [ 1  7]]\n",
      "y_test\t\t\t [1 0 0 1 0 1 1 1 0 0 0 0 0 1 0 0 1 0 1]\n",
      "prediction\t\t [1 0 0 0 0 1 1 1 0 0 0 0 0 1 0 1 1 0 1]\n",
      "cm \t\t\t [[10  1]\n",
      " [ 1  7]]\n",
      "y_test\t\t\t [0 0 1 0 0 1 0 0 1 1 0 0 0 0 0 1 0 0 1]\n",
      "prediction\t\t [0 0 1 0 0 1 1 0 1 1 0 1 0 0 0 1 0 0 1]\n",
      "cm \t\t\t [[11  2]\n",
      " [ 0  6]]\n"
     ]
    }
   ],
   "source": [
    "\n",
    "\n",
    "X,y = X[y != 0] , y[y!=0]\n",
    "\n",
    "indices= np.arange(X.shape[0])\n",
    "\n",
    "np.random.shuffle(indices)\n",
    "\n",
    "X = X[indices]\n",
    "y = y[indices]\n",
    "\n",
    "y[y==1] =0\n",
    "\n",
    "y[y==2] =1\n",
    "\n",
    "mean_fpr = []\n",
    "mean_tpr = []\n",
    "\n",
    "\n",
    "k = 5\n",
    "nb = naivebayes()\n",
    "p = len (X)// k\n",
    "accuracies = np.zeros(k)\n",
    "\n",
    "slice(0,len(X),p)\n",
    "\n",
    "for m in range (k):\n",
    "    start_index = m*p+1\n",
    "    end_index = m*p + p\n",
    "    \n",
    "    X_test = np.concatenate ([X[start_index:end_index]])\n",
    "    y_test = np.concatenate ([y[start_index:end_index]])\n",
    "    X_train = np.concatenate([X[:start_index],X[end_index:]])\n",
    "    y_train = np.concatenate([y[:start_index],y[end_index:]])\n",
    "    \n",
    "#     print(\"y_train\",y_train)\n",
    "    nb = naivebayes()\n",
    "    nb.fit(X_train, y_train)\n",
    "    prediction = nb.predict(X_test)\n",
    "    \n",
    "    accuracy = (y_test == prediction).mean()\n",
    "    accuracies[m] = accuracy\n",
    "#     print(f\"accuracy of fold {m} is {accuracy}\")\n",
    "    \n",
    "    print(\"y_test\\t\\t\\t\",y_test )\n",
    "    print(\"prediction\\t\\t\", prediction)\n",
    "    \n",
    "    cm = confusion_matrix(y_test,prediction)\n",
    "    print(\"cm \\t\\t\\t\", cm)\n",
    "    \n",
    "    fpr, tpr, thresholds = metrics.roc_curve(y_test, prediction)\n",
    "#     print(\"fpr\", fpr, \"\\ntpr\",tpr,\"\\nthresholds\",thresholds)\n",
    "\n",
    "    roc_auc = metrics.auc(fpr, tpr)\n",
    "#     print(\"roc_auc\",roc_auc)\n",
    "    \n",
    "    mean_fpr.append(fpr)\n",
    "    mean_tpr.append(tpr)\n",
    "\n",
    "    display = metrics.RocCurveDisplay(fpr=fpr, tpr=tpr, roc_auc=roc_auc)\n",
    "#     display.plot()\n",
    "#     plt.plot ([0,1], [0,1], linestyle ='dashed')\n",
    "#     plt.show()"
   ]
  },
  {
   "cell_type": "code",
   "execution_count": 9,
   "id": "c2594dfc",
   "metadata": {},
   "outputs": [
    {
     "name": "stdout",
     "output_type": "stream",
     "text": [
      "0.9157894736842105\n"
     ]
    }
   ],
   "source": [
    "print(np.average(accuracies))"
   ]
  },
  {
   "cell_type": "code",
   "execution_count": 10,
   "id": "0a3b792f",
   "metadata": {},
   "outputs": [
    {
     "name": "stdout",
     "output_type": "stream",
     "text": [
      "fpr [0. 0. 0. 0. 0. 0. 0. 1. 1. 1. 1. 1. 1. 1. 1.] , \n",
      "tpr [0. 0. 0. 0. 0. 1. 1. 1. 1. 1. 1. 1. 1. 1. 1.]\n"
     ]
    }
   ],
   "source": [
    "mean2_fpr = np.ceil(np.sort(np.concatenate(mean_fpr)))\n",
    "mean2_tpr= np.ceil(np.sort(np.concatenate(mean_tpr)))\n",
    "print(f\"fpr {np.ceil(mean2_fpr)} , \\ntpr {np.around(mean2_tpr, decimals=2)}\")"
   ]
  },
  {
   "cell_type": "code",
   "execution_count": 11,
   "id": "a317e67e",
   "metadata": {
    "scrolled": true
   },
   "outputs": [
    {
     "data": {
      "image/png": "[encoded data removed]",
      "text/plain": [
       "<Figure size 640x480 with 1 Axes>"
      ]
     },
     "metadata": {},
     "output_type": "display_data"
    }
   ],
   "source": [
    "new_roc_auc = metrics.auc(mean2_fpr, mean2_tpr)\n",
    "display = metrics.RocCurveDisplay(fpr=mean2_fpr, tpr=mean2_tpr, roc_auc=new_roc_auc)\n",
    "display.plot()\n",
    "plt.plot ([0,1], [0,1], linestyle ='dashed')\n",
    "plt.show()"
   ]
  },
  {
   "cell_type": "code",
   "execution_count": null,
   "id": "5e8ca511",
   "metadata": {},
   "outputs": [],
   "source": []
  },
  {
   "cell_type": "markdown",
   "id": "f1888963",
   "metadata": {},
   "source": [
    "### 3\n",
    "\n",
    "## 'setosa', 'virginica'"
   ]
  },
  {
   "cell_type": "code",
   "execution_count": 12,
   "id": "fc57f638",
   "metadata": {
    "scrolled": true
   },
   "outputs": [
    {
     "name": "stdout",
     "output_type": "stream",
     "text": [
      "accuracy of fold 0 is 1.0\n",
      "y_test [0 1 1 0 0 0 0 1 1 0 0 1 0 0 0 0 0 0 1]\n",
      "prediction [0 1 1 0 0 0 0 1 1 0 0 1 0 0 0 0 0 0 1]\n",
      "fpr [0. 0. 1.] \n",
      "tpr [0. 1. 1.]\n",
      "cm [[13  0]\n",
      " [ 0  6]]\n",
      "accuracy of fold 1 is 1.0\n",
      "y_test [1 1 1 1 0 0 0 1 1 1 0 1 1 1 1 0 1 1 0]\n",
      "prediction [1 1 1 1 0 0 0 1 1 1 0 1 1 1 1 0 1 1 0]\n",
      "fpr [0. 0. 1.] \n",
      "tpr [0. 1. 1.]\n",
      "cm [[ 6  0]\n",
      " [ 0 13]]\n",
      "accuracy of fold 2 is 1.0\n",
      "y_test [0 0 0 1 1 0 1 0 0 0 0 0 0 0 0 1 0 1 1]\n",
      "prediction [0 0 0 1 1 0 1 0 0 0 0 0 0 0 0 1 0 1 1]\n",
      "fpr [0. 0. 1.] \n",
      "tpr [0. 1. 1.]\n",
      "cm [[13  0]\n",
      " [ 0  6]]\n",
      "accuracy of fold 3 is 1.0\n",
      "y_test [0 0 1 0 0 1 1 1 1 1 0 1 0 0 1 1 1 0 0]\n",
      "prediction [0 0 1 0 0 1 1 1 1 1 0 1 0 0 1 1 1 0 0]\n",
      "fpr [0. 0. 1.] \n",
      "tpr [0. 1. 1.]\n",
      "cm [[ 9  0]\n",
      " [ 0 10]]\n",
      "accuracy of fold 4 is 1.0\n",
      "y_test [1 0 0 0 1 1 1 1 1 1 0 1 0 1 0 0 0 1 1]\n",
      "prediction [1 0 0 0 1 1 1 1 1 1 0 1 0 1 0 0 0 1 1]\n",
      "fpr [0. 0. 1.] \n",
      "tpr [0. 1. 1.]\n",
      "cm [[ 8  0]\n",
      " [ 0 11]]\n"
     ]
    }
   ],
   "source": [
    "X, y = iris.data, iris.target\n",
    "X,y = X[y != 1] , y[y!=1]\n",
    "# print(\"y.shape\", y.shape)\n",
    "\n",
    "indices= np.arange(X.shape[0])\n",
    "# print(indices)\n",
    "np.random.shuffle(indices)\n",
    "\n",
    "X = X[indices]\n",
    "y = y[indices]\n",
    "# print(\"y\", y)\n",
    "\n",
    "y[y==2] =1\n",
    "# print(\"new y\", y)\n",
    "\n",
    "mean_fpr = []\n",
    "mean_tpr = []\n",
    "\n",
    "\n",
    "k = 5\n",
    "nb = naivebayes()\n",
    "p = len (X)// k\n",
    "accuracies = np.zeros(k)\n",
    "\n",
    "slice(0,len(X),p)\n",
    "\n",
    "for m in range (k):\n",
    "    start_index = m*p+1\n",
    "    end_index = m*p + p\n",
    "    \n",
    "    X_test = np.concatenate ([X[start_index:end_index]])\n",
    "    y_test = np.concatenate ([y[start_index:end_index]])\n",
    "    X_train = np.concatenate([X[:start_index],X[end_index:]])\n",
    "    y_train = np.concatenate([y[:start_index],y[end_index:]])\n",
    "    \n",
    "#     print(\"y_train\",y_train)\n",
    "    nb = naivebayes()\n",
    "    nb.fit(X_train, y_train)\n",
    "    prediction = nb.predict(X_test)\n",
    "    \n",
    "    \n",
    "    \n",
    "    accuracy = (y_test == prediction).mean()\n",
    "    accuracies[m] = accuracy\n",
    "    print(f\"accuracy of fold {m} is {accuracy}\")\n",
    "    \n",
    "    \n",
    "    \n",
    "    print(\"y_test\",y_test )\n",
    "    print(\"prediction\", prediction)\n",
    "    \n",
    "    fpr, tpr, thresholds = metrics.roc_curve(y_test, prediction)\n",
    "    roc_auc = metrics.auc(fpr, tpr)\n",
    "    print(\"fpr\",fpr, \"\\ntpr\", tpr)\n",
    "    \n",
    "    cm = confusion_matrix(y_test,prediction)\n",
    "    print(\"cm\", cm)\n",
    "    mean_fpr.append(fpr)\n",
    "    mean_tpr.append(tpr)\n",
    "    \n",
    "#     display = metrics.RocCurveDisplay(fpr=fpr, tpr=tpr, roc_auc=roc_auc)\n",
    "#     display.plot()\n",
    "#     plt.plot ([0,1], [0,1], linestyle ='dashed')\n",
    "#     plt.show()"
   ]
  },
  {
   "cell_type": "code",
   "execution_count": 13,
   "id": "8fdd38f1",
   "metadata": {},
   "outputs": [
    {
     "name": "stdout",
     "output_type": "stream",
     "text": [
      "fpr [0. 0. 0. 0. 0. 0. 0. 0. 0. 0. 1. 1. 1. 1. 1.] \n",
      "tpr [0. 0. 0. 0. 0. 1. 1. 1. 1. 1. 1. 1. 1. 1. 1.]\n"
     ]
    }
   ],
   "source": [
    "mean2_fpr = np.sort(np.concatenate(mean_fpr))\n",
    "mean2_tpr= np.sort(np.concatenate(mean_tpr))\n",
    "print(\"fpr\",mean2_fpr, \"\\ntpr\", mean2_tpr)"
   ]
  },
  {
   "cell_type": "code",
   "execution_count": 14,
   "id": "d02cc263",
   "metadata": {},
   "outputs": [
    {
     "data": {
      "image/png": "[encoded data removed]",
      "text/plain": [
       "<Figure size 640x480 with 1 Axes>"
      ]
     },
     "metadata": {},
     "output_type": "display_data"
    }
   ],
   "source": [
    "new_roc_auc = metrics.auc(mean2_fpr, mean2_tpr)\n",
    "display = metrics.RocCurveDisplay(fpr=mean2_fpr, tpr=mean2_tpr, roc_auc=new_roc_auc)\n",
    "display.plot()\n",
    "plt.plot ([0,1], [0,1], linestyle ='dashed')\n",
    "plt.show()"
   ]
  }
 ],
 "metadata": {
  "kernelspec": {
   "display_name": "Python 3 (ipykernel)",
   "language": "python",
   "name": "python3"
  },
  "language_info": {
   "codemirror_mode": {
    "name": "ipython",
    "version": 3
   },
   "file_extension": ".py",
   "mimetype": "text/x-python",
   "name": "python",
   "nbconvert_exporter": "python",
   "pygments_lexer": "ipython3",
   "version": "3.9.13"
  }
 },
 "nbformat": 4,
 "nbformat_minor": 5
}
